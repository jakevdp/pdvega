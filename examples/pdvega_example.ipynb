{
 "cells": [
  {
   "cell_type": "markdown",
   "metadata": {},
   "source": [
    "# ``pdvega``: Pandas Plotting API to Vega-Lite\n",
    "\n",
    "[``pdvega``](http://github.com/jakevdp/pdvega) is a package that extends the pandas plotting API to work with [Vega-Lite](http://vega.github.io/vega-lite/).\n",
    "It adds the ``vgplot`` attribute to Pandas ``Series`` and ``Dataframe`` objects, so that the ``data.vgplot()`` method can be used similarly to the ``data.plot()`` method to create interactive Vega-Lite plots.\n",
    "\n",
    "This notebook contains examples of this in action. Note that if you are viewing this notebook on github or nbviewer, you will see only static snapshots of the outputs. Run the notebook locally to see the full interactive versions of the plots.\n",
    "\n",
    "Throughout this notebook, we will use the [vega_datasets](https://github.com/jakevdp/vega_datasets) package for loading example data as pandas dataframes. This can be installed with:\n",
    "\n",
    "```\n",
    "pip install vega_datasets\n",
    "```\n",
    "\n",
    "For example, here is some stock market data from a few large tech companies:"
   ]
  },
  {
   "cell_type": "code",
   "execution_count": null,
   "metadata": {},
   "outputs": [],
   "source": [
    "from vega_datasets import data\n",
    "stocks = data.stocks(pivoted=True)\n",
    "stocks.head()"
   ]
  },
  {
   "cell_type": "markdown",
   "metadata": {},
   "source": [
    "## The Pandas Plotting API\n",
    "\n",
    "Let's start with the standard matplotlib, pandas, and numpy imports, as well as some matplotlib setup:"
   ]
  },
  {
   "cell_type": "code",
   "execution_count": null,
   "metadata": {},
   "outputs": [],
   "source": [
    "%matplotlib inline\n",
    "import matplotlib.pyplot as plt\n",
    "import pandas as pd\n",
    "import numpy as np"
   ]
  },
  {
   "cell_type": "markdown",
   "metadata": {},
   "source": [
    "Pandas has long provided a simple plotting API based on the ``plot`` method:"
   ]
  },
  {
   "cell_type": "code",
   "execution_count": null,
   "metadata": {},
   "outputs": [],
   "source": [
    "stocks.plot();"
   ]
  },
  {
   "cell_type": "markdown",
   "metadata": {},
   "source": [
    "The result is a nice plot, but is just a static PNG.\n",
    "\n",
    "Importing the ``pdvega`` module will add the ``vgplot`` attribute to pandas ``Series`` and ``DataFrame`` objects that produces a more dynamic plot:"
   ]
  },
  {
   "cell_type": "code",
   "execution_count": null,
   "metadata": {},
   "outputs": [],
   "source": [
    "# import adds the vgplot attribute to Series and DataFrames\n",
    "import pdvega\n",
    "\n",
    "hasattr(pd.DataFrame, 'vgplot')"
   ]
  },
  {
   "cell_type": "markdown",
   "metadata": {},
   "source": [
    "The ``vgplot`` method is designed to have mostly the same interface as the ``plot`` method:"
   ]
  },
  {
   "cell_type": "code",
   "execution_count": null,
   "metadata": {},
   "outputs": [],
   "source": [
    "stocks.vgplot()"
   ]
  },
  {
   "cell_type": "markdown",
   "metadata": {},
   "source": [
    "The result is an interactive plot; if you're running the notebook live, you should be able to pan and zoom the plot using your mouse or trackpad.\n",
    "\n",
    "Let's explore a few types of plots that ``pdvega`` makes available:"
   ]
  },
  {
   "cell_type": "markdown",
   "metadata": {},
   "source": [
    "## Line Plots\n",
    "\n",
    "Above we saw that the default plot style is a line plot.\n",
    "We can also specify the line plot explicitly using ``plot.line()`` or ``vgplot.line()``:"
   ]
  },
  {
   "cell_type": "code",
   "execution_count": null,
   "metadata": {},
   "outputs": [],
   "source": [
    "stocks.plot.line();"
   ]
  },
  {
   "cell_type": "code",
   "execution_count": null,
   "metadata": {},
   "outputs": [],
   "source": [
    "stocks.vgplot.line()"
   ]
  },
  {
   "cell_type": "markdown",
   "metadata": {},
   "source": [
    "## Scatter Plots"
   ]
  },
  {
   "cell_type": "markdown",
   "metadata": {},
   "source": [
    "Scatter plots are also supported; for this let's use the ``cars`` data:"
   ]
  },
  {
   "cell_type": "code",
   "execution_count": null,
   "metadata": {},
   "outputs": [],
   "source": [
    "cars = data('cars')\n",
    "cars.head()"
   ]
  },
  {
   "cell_type": "code",
   "execution_count": null,
   "metadata": {},
   "outputs": [],
   "source": [
    "cars.plot.scatter(x='Horsepower', y='Miles_per_Gallon', c='Cylinders');"
   ]
  },
  {
   "cell_type": "code",
   "execution_count": null,
   "metadata": {},
   "outputs": [],
   "source": [
    "cars.vgplot.scatter(x='Horsepower', y='Miles_per_Gallon', c='Cylinders')"
   ]
  },
  {
   "cell_type": "markdown",
   "metadata": {},
   "source": [
    "Notice that unlike matplotlib, pdvega recognizes that the ``Cylinders`` column consists of discrete, ordinal values, and chooses the legend accordingly.\n",
    "For continuous values, a continuous legend is used:"
   ]
  },
  {
   "cell_type": "code",
   "execution_count": null,
   "metadata": {},
   "outputs": [],
   "source": [
    "cars.vgplot.scatter(x='Horsepower', y='Miles_per_Gallon', c='Weight_in_lbs')"
   ]
  },
  {
   "cell_type": "markdown",
   "metadata": {},
   "source": [
    "Both the size and the color of points can be specified, as well as the transparency:"
   ]
  },
  {
   "cell_type": "code",
   "execution_count": null,
   "metadata": {},
   "outputs": [],
   "source": [
    "cars.vgplot.scatter(x='Horsepower', y='Miles_per_Gallon',\n",
    "                    c='Origin', s='Weight_in_lbs', alpha=0.3)"
   ]
  },
  {
   "cell_type": "markdown",
   "metadata": {},
   "source": [
    "## Bar Plots"
   ]
  },
  {
   "cell_type": "markdown",
   "metadata": {},
   "source": [
    "Bar plots are supported with the ``bar`` and ``barh`` methods.\n",
    "let's create some simple data to plot"
   ]
  },
  {
   "cell_type": "code",
   "execution_count": null,
   "metadata": {},
   "outputs": [],
   "source": [
    "rand = np.random.RandomState(42)\n",
    "df = pd.DataFrame({'x': 0.5 + 0.5 * rand.rand(20),\n",
    "                   'y': 0.7 + 0.5 * rand.rand(20)})"
   ]
  },
  {
   "cell_type": "markdown",
   "metadata": {},
   "source": [
    "### Unstacked\n",
    "\n",
    "The default bar plot type is unstacked; there is a slight difference between matplotlib and vega here: matplotlib puts the bars side-by-side, while Vega layers the unstacked bars on top of each other, making them transparent:"
   ]
  },
  {
   "cell_type": "code",
   "execution_count": null,
   "metadata": {},
   "outputs": [],
   "source": [
    "df.iloc[-10:].plot.bar();"
   ]
  },
  {
   "cell_type": "code",
   "execution_count": null,
   "metadata": {},
   "outputs": [],
   "source": [
    "df.vgplot.bar()"
   ]
  },
  {
   "cell_type": "markdown",
   "metadata": {},
   "source": [
    "### Stacked\n",
    "\n",
    "It can be more useful to stack the bars instead:"
   ]
  },
  {
   "cell_type": "code",
   "execution_count": null,
   "metadata": {},
   "outputs": [],
   "source": [
    "df.plot.bar(stacked=True);"
   ]
  },
  {
   "cell_type": "code",
   "execution_count": null,
   "metadata": {},
   "outputs": [],
   "source": [
    "df.vgplot.bar(stacked=True)"
   ]
  },
  {
   "cell_type": "markdown",
   "metadata": {},
   "source": [
    "### Horizontal bar\n",
    "\n",
    "By changing ``bar`` to ``barh``, we get horizontal bar plots:"
   ]
  },
  {
   "cell_type": "code",
   "execution_count": null,
   "metadata": {},
   "outputs": [],
   "source": [
    "df10 = df.iloc[:10]"
   ]
  },
  {
   "cell_type": "code",
   "execution_count": null,
   "metadata": {},
   "outputs": [],
   "source": [
    "df10.plot.barh(stacked=True);"
   ]
  },
  {
   "cell_type": "code",
   "execution_count": null,
   "metadata": {},
   "outputs": [],
   "source": [
    "df10.vgplot.barh(stacked=True)"
   ]
  },
  {
   "cell_type": "markdown",
   "metadata": {},
   "source": [
    "## Area Plots\n",
    "\n",
    "Filled line plots become area plots, which are stacked by default:"
   ]
  },
  {
   "cell_type": "code",
   "execution_count": null,
   "metadata": {},
   "outputs": [],
   "source": [
    "df = pd.DataFrame({'x': 1 + np.random.rand(50),\n",
    "                   'y': 1 + np.random.rand(50)})"
   ]
  },
  {
   "cell_type": "code",
   "execution_count": null,
   "metadata": {},
   "outputs": [],
   "source": [
    "df.plot.area();"
   ]
  },
  {
   "cell_type": "code",
   "execution_count": null,
   "metadata": {},
   "outputs": [],
   "source": [
    "df.vgplot.area()"
   ]
  },
  {
   "cell_type": "markdown",
   "metadata": {},
   "source": [
    "When unstacked, they become partially transparent for clarity:"
   ]
  },
  {
   "cell_type": "code",
   "execution_count": null,
   "metadata": {},
   "outputs": [],
   "source": [
    "df.plot.area(stacked=False);"
   ]
  },
  {
   "cell_type": "code",
   "execution_count": null,
   "metadata": {},
   "outputs": [],
   "source": [
    "df.vgplot.area(stacked=False)"
   ]
  },
  {
   "cell_type": "markdown",
   "metadata": {},
   "source": [
    "## Histograms\n",
    "\n",
    "For exploring distributions of data, histograms are useful:"
   ]
  },
  {
   "cell_type": "code",
   "execution_count": null,
   "metadata": {},
   "outputs": [],
   "source": [
    "df = pd.DataFrame({'x': np.random.randn(1000),\n",
    "                   'y': 1 + np.random.randn(1000)})"
   ]
  },
  {
   "cell_type": "code",
   "execution_count": null,
   "metadata": {},
   "outputs": [],
   "source": [
    "df.plot.hist(bins=50);"
   ]
  },
  {
   "cell_type": "code",
   "execution_count": null,
   "metadata": {},
   "outputs": [],
   "source": [
    "df.vgplot.hist(bins=50)"
   ]
  },
  {
   "cell_type": "markdown",
   "metadata": {},
   "source": [
    "Vega supports different histogram types, including step plots:"
   ]
  },
  {
   "cell_type": "code",
   "execution_count": null,
   "metadata": {},
   "outputs": [],
   "source": [
    "df.vgplot.hist(bins=50, histtype='step')"
   ]
  },
  {
   "cell_type": "markdown",
   "metadata": {},
   "source": [
    "And filled step plots:"
   ]
  },
  {
   "cell_type": "code",
   "execution_count": null,
   "metadata": {},
   "outputs": [],
   "source": [
    "df.vgplot.hist(bins=50, histtype='stepfilled')"
   ]
  },
  {
   "cell_type": "markdown",
   "metadata": {},
   "source": [
    "## KDE Plots\n",
    "\n",
    "A more useful density estimator is a kernel density estimate, which can be plotted with the ``kde`` method:"
   ]
  },
  {
   "cell_type": "code",
   "execution_count": null,
   "metadata": {},
   "outputs": [],
   "source": [
    "df.plot.kde();"
   ]
  },
  {
   "cell_type": "code",
   "execution_count": null,
   "metadata": {},
   "outputs": [],
   "source": [
    "df.vgplot.kde()"
   ]
  },
  {
   "cell_type": "markdown",
   "metadata": {},
   "source": [
    "## Heatmaps and Hexbin\n",
    "\n",
    "For two-dimensional data, matplotlib provides a hexagonally-binned heatmapwith the ``hexbin`` function:"
   ]
  },
  {
   "cell_type": "code",
   "execution_count": null,
   "metadata": {},
   "outputs": [],
   "source": [
    "df.plot.hexbin(x='x', y='y', gridsize=20);"
   ]
  },
  {
   "cell_type": "markdown",
   "metadata": {},
   "source": [
    "Unfortunately, Vega-Lite does not support hexagonal binning, but does support Cartesian-binned heatmaps:"
   ]
  },
  {
   "cell_type": "code",
   "execution_count": null,
   "metadata": {},
   "outputs": [],
   "source": [
    "df.vgplot.heatmap(x='x', y='y', gridsize=20)"
   ]
  },
  {
   "cell_type": "markdown",
   "metadata": {},
   "source": [
    "## Scatter Matrix\n",
    "\n",
    "For higher-dimensional data, a matrix of scatterplots can be a useful way to explore data. Pandas provides this in the ``pd.plotting.scatter_matrix()`` function:"
   ]
  },
  {
   "cell_type": "code",
   "execution_count": null,
   "metadata": {},
   "outputs": [],
   "source": [
    "iris = data.iris()"
   ]
  },
  {
   "cell_type": "code",
   "execution_count": null,
   "metadata": {},
   "outputs": [],
   "source": [
    "pd.plotting.scatter_matrix(iris, figsize=(8, 8));"
   ]
  },
  {
   "cell_type": "markdown",
   "metadata": {},
   "source": [
    "pdvega provides this as well:"
   ]
  },
  {
   "cell_type": "code",
   "execution_count": null,
   "metadata": {},
   "outputs": [],
   "source": [
    "pdvega.plotting.scatter_matrix(iris, 'species', figsize=(8, 8))"
   ]
  },
  {
   "cell_type": "markdown",
   "metadata": {},
   "source": [
    "In this case, the scatter matrix supports two types of interactions:\n",
    "\n",
    "- clicking and dragging will pan and zoom the plots in a linked manner\n",
    "- clicking and dragging while holding the SHIFT key will perform linked-brushing, highlighting selected points across the plot."
   ]
  },
  {
   "cell_type": "markdown",
   "metadata": {},
   "source": [
    "## Parallel Coordinates\n",
    "\n",
    "Anotehr way to visualize higher-dimensional data is through a parallel coordinates plot:"
   ]
  },
  {
   "cell_type": "code",
   "execution_count": null,
   "metadata": {},
   "outputs": [],
   "source": [
    "pd.plotting.parallel_coordinates(iris, 'species');"
   ]
  },
  {
   "cell_type": "code",
   "execution_count": null,
   "metadata": {},
   "outputs": [],
   "source": [
    "pdvega.plotting.parallel_coordinates(iris, 'species')"
   ]
  },
  {
   "cell_type": "markdown",
   "metadata": {},
   "source": [
    "## Andrews Curves\n",
    "\n",
    "Similar in spirit is the Andrews curve plot, which converts each datapoint into a smooth curve via a Fourier series:"
   ]
  },
  {
   "cell_type": "code",
   "execution_count": null,
   "metadata": {},
   "outputs": [],
   "source": [
    "pd.plotting.andrews_curves(iris, 'species');"
   ]
  },
  {
   "cell_type": "code",
   "execution_count": null,
   "metadata": {},
   "outputs": [],
   "source": [
    "pdvega.plotting.andrews_curves(iris, 'species')"
   ]
  },
  {
   "cell_type": "markdown",
   "metadata": {},
   "source": [
    "## Lag Plot\n",
    "\n",
    "A lag plot is a way of exploring the temporal relationships within a time series, by plotting values separated by a constant lag.\n",
    "For example, here is the 12-month lag plot of some tech stock prices between 1998 and 2010"
   ]
  },
  {
   "cell_type": "code",
   "execution_count": null,
   "metadata": {},
   "outputs": [],
   "source": [
    "stocks = data.stocks(pivoted=True)"
   ]
  },
  {
   "cell_type": "code",
   "execution_count": null,
   "metadata": {},
   "outputs": [],
   "source": [
    "pd.plotting.lag_plot(stocks[['MSFT', 'AMZN']], lag=12);"
   ]
  },
  {
   "cell_type": "markdown",
   "metadata": {},
   "source": [
    "Unlike matplotlib, ``pdvega`` automatically colors and labels points to make the relationships more clear:"
   ]
  },
  {
   "cell_type": "code",
   "execution_count": null,
   "metadata": {},
   "outputs": [],
   "source": [
    "pdvega.plotting.lag_plot(stocks[['MSFT', 'AMZN']], lag=12)"
   ]
  },
  {
   "cell_type": "markdown",
   "metadata": {},
   "source": [
    "This shows us that during 1998-2010, Amazon, a startup company, was quite volatile (its price any given month was very unpredictive of its price a year later) while Microsoft, and established tech giant, was much more stable."
   ]
  },
  {
   "cell_type": "markdown",
   "metadata": {},
   "source": [
    "## Learning More\n",
    "\n",
    "Hopefully this whets your appetite for the types of plots you can make in Vega-Lite. For more information on the pdvega package, please see the documentation at http://jakevdp.github.io/pdvega/."
   ]
  }
 ],
 "metadata": {
  "kernelspec": {
   "display_name": "Python 3",
   "language": "python",
   "name": "python3"
  },
  "language_info": {
   "codemirror_mode": {
    "name": "ipython",
    "version": 3
   },
   "file_extension": ".py",
   "mimetype": "text/x-python",
   "name": "python",
   "nbconvert_exporter": "python",
   "pygments_lexer": "ipython3",
   "version": "3.6.5"
  }
 },
 "nbformat": 4,
 "nbformat_minor": 2
}
